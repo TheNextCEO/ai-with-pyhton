{
 "cells": [
  {
   "cell_type": "markdown",
   "metadata": {},
   "source": [
    "# K-means Clustering From Scratch In Python\n",
    "\n",
    "\n",
    "## Introduction\n",
    "\n",
    "In this notebook, we will implement the K-means clustering algorithm from scratch in Python. We will use the Iris dataset to test our implementation. The Iris dataset is a multivariate dataset with 3 classes and 4 features. The dataset is available in the scikit-learn library. We will use the K-means algorithm to cluster the data into 3 clusters. We will then compare the results with the actual labels of the data.\n",
    "\n"
   ]
  },
  {
   "cell_type": "code",
   "execution_count": 1,
   "metadata": {},
   "outputs": [],
   "source": [
    "# import the packages\n",
    "\n",
    "import numpy as np\n",
    "import pandas as pd"
   ]
  },
  {
   "cell_type": "code",
   "execution_count": 63,
   "metadata": {},
   "outputs": [
    {
     "name": "stderr",
     "output_type": "stream",
     "text": [
      "/var/folders/dy/h36wnkx57lg495q84yjtvm100000gn/T/ipykernel_75046/2843111669.py:2: DtypeWarning: Columns (25,108) have mixed types. Specify dtype option on import or set low_memory=False.\n",
      "  players = pd.read_csv('./data/K-means_Clustering_From_Scratch_In_Python/players_22.csv')\n"
     ]
    },
    {
     "data": {
      "text/html": [
       "<div>\n",
       "<style scoped>\n",
       "    .dataframe tbody tr th:only-of-type {\n",
       "        vertical-align: middle;\n",
       "    }\n",
       "\n",
       "    .dataframe tbody tr th {\n",
       "        vertical-align: top;\n",
       "    }\n",
       "\n",
       "    .dataframe thead th {\n",
       "        text-align: right;\n",
       "    }\n",
       "</style>\n",
       "<table border=\"1\" class=\"dataframe\">\n",
       "  <thead>\n",
       "    <tr style=\"text-align: right;\">\n",
       "      <th></th>\n",
       "      <th>overall</th>\n",
       "      <th>potential</th>\n",
       "      <th>value_eur</th>\n",
       "      <th>wage_eur</th>\n",
       "      <th>age</th>\n",
       "    </tr>\n",
       "  </thead>\n",
       "  <tbody>\n",
       "    <tr>\n",
       "      <th>0</th>\n",
       "      <td>93</td>\n",
       "      <td>93</td>\n",
       "      <td>78000000.0</td>\n",
       "      <td>320000.0</td>\n",
       "      <td>34</td>\n",
       "    </tr>\n",
       "    <tr>\n",
       "      <th>1</th>\n",
       "      <td>92</td>\n",
       "      <td>92</td>\n",
       "      <td>119500000.0</td>\n",
       "      <td>270000.0</td>\n",
       "      <td>32</td>\n",
       "    </tr>\n",
       "    <tr>\n",
       "      <th>2</th>\n",
       "      <td>91</td>\n",
       "      <td>91</td>\n",
       "      <td>45000000.0</td>\n",
       "      <td>270000.0</td>\n",
       "      <td>36</td>\n",
       "    </tr>\n",
       "    <tr>\n",
       "      <th>3</th>\n",
       "      <td>91</td>\n",
       "      <td>91</td>\n",
       "      <td>129000000.0</td>\n",
       "      <td>270000.0</td>\n",
       "      <td>29</td>\n",
       "    </tr>\n",
       "    <tr>\n",
       "      <th>4</th>\n",
       "      <td>91</td>\n",
       "      <td>91</td>\n",
       "      <td>125500000.0</td>\n",
       "      <td>350000.0</td>\n",
       "      <td>30</td>\n",
       "    </tr>\n",
       "  </tbody>\n",
       "</table>\n",
       "</div>"
      ],
      "text/plain": [
       "   overall  potential    value_eur  wage_eur  age\n",
       "0       93         93   78000000.0  320000.0   34\n",
       "1       92         92  119500000.0  270000.0   32\n",
       "2       91         91   45000000.0  270000.0   36\n",
       "3       91         91  129000000.0  270000.0   29\n",
       "4       91         91  125500000.0  350000.0   30"
      ]
     },
     "execution_count": 63,
     "metadata": {},
     "output_type": "execute_result"
    }
   ],
   "source": [
    "#  import the data into a pandas dataframe\n",
    "players = pd.read_csv('./data/K-means_Clustering_From_Scratch_In_Python/players_22.csv')\n",
    "\n",
    "# list the features we want to use\n",
    "features = [\"overall\", \"potential\", \"value_eur\", \"wage_eur\", \"age\"]\n",
    "\n",
    "# drop the rows with missing values\n",
    "players = players[features].dropna(subset=features)\n",
    "\n",
    "#  copy a small subset of the data to a new dataframe\n",
    "data = players[features].copy()\n",
    "\n",
    "data.head()"
   ]
  },
  {
   "attachments": {},
   "cell_type": "markdown",
   "metadata": {},
   "source": [
    "Steps that are needed to implement the K-means algorithm:\n",
    "\n",
    "1. Scale the data to a a range of 1 to 10\n",
    "2. Initialize random centroids\n",
    "3. Assign each data point to the closest centroid\n",
    "4. Update the centroids\n",
    "5. Repeat steps 3 and 4 until the centroids converge (stop changing)"
   ]
  },
  {
   "cell_type": "code",
   "execution_count": 10,
   "metadata": {},
   "outputs": [
    {
     "data": {
      "text/html": [
       "<div>\n",
       "<style scoped>\n",
       "    .dataframe tbody tr th:only-of-type {\n",
       "        vertical-align: middle;\n",
       "    }\n",
       "\n",
       "    .dataframe tbody tr th {\n",
       "        vertical-align: top;\n",
       "    }\n",
       "\n",
       "    .dataframe thead th {\n",
       "        text-align: right;\n",
       "    }\n",
       "</style>\n",
       "<table border=\"1\" class=\"dataframe\">\n",
       "  <thead>\n",
       "    <tr style=\"text-align: right;\">\n",
       "      <th></th>\n",
       "      <th>overall</th>\n",
       "      <th>potential</th>\n",
       "      <th>value_eur</th>\n",
       "      <th>wage_eur</th>\n",
       "      <th>age</th>\n",
       "    </tr>\n",
       "  </thead>\n",
       "  <tbody>\n",
       "    <tr>\n",
       "      <th>0</th>\n",
       "      <td>10.000000</td>\n",
       "      <td>9.608696</td>\n",
       "      <td>4.618307</td>\n",
       "      <td>9.227468</td>\n",
       "      <td>7.000000</td>\n",
       "    </tr>\n",
       "    <tr>\n",
       "      <th>1</th>\n",
       "      <td>9.804348</td>\n",
       "      <td>9.413043</td>\n",
       "      <td>6.543654</td>\n",
       "      <td>7.939914</td>\n",
       "      <td>6.333333</td>\n",
       "    </tr>\n",
       "    <tr>\n",
       "      <th>2</th>\n",
       "      <td>9.608696</td>\n",
       "      <td>9.217391</td>\n",
       "      <td>3.087308</td>\n",
       "      <td>7.939914</td>\n",
       "      <td>7.666667</td>\n",
       "    </tr>\n",
       "    <tr>\n",
       "      <th>3</th>\n",
       "      <td>9.608696</td>\n",
       "      <td>9.217391</td>\n",
       "      <td>6.984396</td>\n",
       "      <td>7.939914</td>\n",
       "      <td>5.333333</td>\n",
       "    </tr>\n",
       "    <tr>\n",
       "      <th>4</th>\n",
       "      <td>9.608696</td>\n",
       "      <td>9.217391</td>\n",
       "      <td>6.822018</td>\n",
       "      <td>10.000000</td>\n",
       "      <td>5.666667</td>\n",
       "    </tr>\n",
       "  </tbody>\n",
       "</table>\n",
       "</div>"
      ],
      "text/plain": [
       "     overall  potential  value_eur   wage_eur       age\n",
       "0  10.000000   9.608696   4.618307   9.227468  7.000000\n",
       "1   9.804348   9.413043   6.543654   7.939914  6.333333\n",
       "2   9.608696   9.217391   3.087308   7.939914  7.666667\n",
       "3   9.608696   9.217391   6.984396   7.939914  5.333333\n",
       "4   9.608696   9.217391   6.822018  10.000000  5.666667"
      ]
     },
     "execution_count": 10,
     "metadata": {},
     "output_type": "execute_result"
    }
   ],
   "source": [
    "# scale the data: transforming your data so that it fits within a specific scale\n",
    "# min max scaling\n",
    "# (data - data.min()) - sets the minimum value to 0\n",
    "# (data.max() - data.min() - sets the maximum value to 1\n",
    "data = ((data - data.min()) / (data.max() - data.min())) * 9 + 1\n",
    "data.head()"
   ]
  },
  {
   "cell_type": "code",
   "execution_count": 53,
   "metadata": {},
   "outputs": [],
   "source": [
    "# initialize the random centroids\n",
    "# look through the data and pick k random rows\n",
    "# turn it into a float\n",
    "\n",
    "def random_centriod(data, k):\n",
    "    centriods = []\n",
    "    for i in range(k):\n",
    "        centriod = data.apply(lambda x: float(x.sample()))\n",
    "        centriods.append(centriod)\n",
    "    return pd.concat(centriods, axis=1)"
   ]
  },
  {
   "cell_type": "code",
   "execution_count": 54,
   "metadata": {},
   "outputs": [],
   "source": [
    "#  Assign each data point to the closest centroid (cluster)\n",
    "#  subtract the values from the centriod from each data point\n",
    "#  square the result (each difference)\n",
    "#  sum the squared differences\n",
    "#  take the square root of the sum\n",
    "\n",
    "def get_labels(data, centriods):\n",
    "    distances = centriods.apply(lambda x : np.sqrt(((data - x) **2 ).sum(axis=1)))\n",
    "    return distances.idxmin(axis=1)\n",
    "    "
   ]
  },
  {
   "cell_type": "code",
   "execution_count": 55,
   "metadata": {},
   "outputs": [],
   "source": [
    "# get the geometric mean of each cluster\n",
    "# usually you would\n",
    "#   multiply the values in each cluster together\n",
    "#   take the nth root of the product\n",
    "\n",
    "# we will\n",
    "#   data.groupby(labels) - group the data by the labels\n",
    "#   take the natural log of each value\n",
    "#   take the mean of the logs\n",
    "#   take the exponential of the mean\n",
    "\n",
    "def new_centriods(data, labels, k):\n",
    "    return data.groupby(labels).apply(lambda x: np.exp(np.log(x).mean())).T\n",
    "     "
   ]
  },
  {
   "cell_type": "code",
   "execution_count": 56,
   "metadata": {},
   "outputs": [],
   "source": [
    "# visualize the clusters assignments at each iterations\n",
    "from sklearn.decomposition import PCA\n",
    "import matplotlib.pyplot as plt\n",
    "from IPython.display import clear_output"
   ]
  },
  {
   "cell_type": "code",
   "execution_count": 57,
   "metadata": {},
   "outputs": [],
   "source": [
    "def plot_clusters(data, labels, centriods, iteration):\n",
    "    # turn 5d data into 2d data - PCA\n",
    "    pca = PCA(n_components=2)\n",
    "    data_2d = pca.fit_transform(data)\n",
    "    centriods_2d = pca.transform(centriods.T)\n",
    "    \n",
    "    # clear the output - IPython\n",
    "    clear_output(wait=True)\n",
    "    \n",
    "    # plot the data - matplotlib\n",
    "    plt.title(\"Iteration: \" + str(iteration))\n",
    "    plt.scatter(x=data_2d[:,0], y=data_2d[:,1], c=labels)\n",
    "    plt.scatter(x=centriods_2d[:,0], y=centriods_2d[:,1])\n",
    "    plt.show()"
   ]
  },
  {
   "cell_type": "code",
   "execution_count": 58,
   "metadata": {},
   "outputs": [
    {
     "data": {
      "image/png": "[encoded data removed]",
      "text/plain": [
       "<Figure size 432x288 with 1 Axes>"
      ]
     },
     "metadata": {
      "needs_background": "light"
     },
     "output_type": "display_data"
    }
   ],
   "source": [
    "max_iterations = 100\n",
    "k = 3\n",
    "\n",
    "centriods = random_centriod(data, k)\n",
    "old_centriods = pd.DataFrame()\n",
    "iteration = 1\n",
    "\n",
    "\n",
    "# stop the loop when the centriods stop changing\n",
    "while iteration < max_iterations and not centriods.equals(old_centriods):\n",
    "    old_centriods = centriods\n",
    "    labels = get_labels(data, centriods)\n",
    "    centriods = new_centriods(data, labels, k)\n",
    "    plot_clusters(data, labels, centriods, iteration)\n",
    "    iteration += 1"
   ]
  },
  {
   "cell_type": "code",
   "execution_count": 60,
   "metadata": {},
   "outputs": [
    {
     "data": {
      "text/html": [
       "<div>\n",
       "<style scoped>\n",
       "    .dataframe tbody tr th:only-of-type {\n",
       "        vertical-align: middle;\n",
       "    }\n",
       "\n",
       "    .dataframe tbody tr th {\n",
       "        vertical-align: top;\n",
       "    }\n",
       "\n",
       "    .dataframe thead th {\n",
       "        text-align: right;\n",
       "    }\n",
       "</style>\n",
       "<table border=\"1\" class=\"dataframe\">\n",
       "  <thead>\n",
       "    <tr style=\"text-align: right;\">\n",
       "      <th></th>\n",
       "      <th>0</th>\n",
       "      <th>1</th>\n",
       "      <th>2</th>\n",
       "    </tr>\n",
       "  </thead>\n",
       "  <tbody>\n",
       "    <tr>\n",
       "      <th>overall</th>\n",
       "      <td>4.784633</td>\n",
       "      <td>5.806043</td>\n",
       "      <td>3.206838</td>\n",
       "    </tr>\n",
       "    <tr>\n",
       "      <th>potential</th>\n",
       "      <td>4.506962</td>\n",
       "      <td>6.497993</td>\n",
       "      <td>4.928473</td>\n",
       "    </tr>\n",
       "    <tr>\n",
       "      <th>value_eur</th>\n",
       "      <td>1.044980</td>\n",
       "      <td>1.285501</td>\n",
       "      <td>1.026614</td>\n",
       "    </tr>\n",
       "    <tr>\n",
       "      <th>wage_eur</th>\n",
       "      <td>1.118904</td>\n",
       "      <td>1.420001</td>\n",
       "      <td>1.028505</td>\n",
       "    </tr>\n",
       "    <tr>\n",
       "      <th>age</th>\n",
       "      <td>5.472247</td>\n",
       "      <td>3.596161</td>\n",
       "      <td>2.518708</td>\n",
       "    </tr>\n",
       "  </tbody>\n",
       "</table>\n",
       "</div>"
      ],
      "text/plain": [
       "                  0         1         2\n",
       "overall    4.784633  5.806043  3.206838\n",
       "potential  4.506962  6.497993  4.928473\n",
       "value_eur  1.044980  1.285501  1.026614\n",
       "wage_eur   1.118904  1.420001  1.028505\n",
       "age        5.472247  3.596161  2.518708"
      ]
     },
     "execution_count": 60,
     "metadata": {},
     "output_type": "execute_result"
    }
   ],
   "source": [
    "centriods"
   ]
  },
  {
   "cell_type": "code",
   "execution_count": 61,
   "metadata": {},
   "outputs": [],
   "source": [
    "#  compare to sklearn\n",
    "from sklearn.cluster import KMeans"
   ]
  },
  {
   "cell_type": "code",
   "execution_count": 62,
   "metadata": {},
   "outputs": [
    {
     "data": {
      "text/html": [
       "<div>\n",
       "<style scoped>\n",
       "    .dataframe tbody tr th:only-of-type {\n",
       "        vertical-align: middle;\n",
       "    }\n",
       "\n",
       "    .dataframe tbody tr th {\n",
       "        vertical-align: top;\n",
       "    }\n",
       "\n",
       "    .dataframe thead th {\n",
       "        text-align: right;\n",
       "    }\n",
       "</style>\n",
       "<table border=\"1\" class=\"dataframe\">\n",
       "  <thead>\n",
       "    <tr style=\"text-align: right;\">\n",
       "      <th></th>\n",
       "      <th>0</th>\n",
       "      <th>1</th>\n",
       "      <th>2</th>\n",
       "    </tr>\n",
       "  </thead>\n",
       "  <tbody>\n",
       "    <tr>\n",
       "      <th>overall</th>\n",
       "      <td>6.210533</td>\n",
       "      <td>4.802146</td>\n",
       "      <td>3.582350</td>\n",
       "    </tr>\n",
       "    <tr>\n",
       "      <th>potential</th>\n",
       "      <td>6.612225</td>\n",
       "      <td>4.506232</td>\n",
       "      <td>5.197414</td>\n",
       "    </tr>\n",
       "    <tr>\n",
       "      <th>value_eur</th>\n",
       "      <td>1.408261</td>\n",
       "      <td>1.040073</td>\n",
       "      <td>1.035194</td>\n",
       "    </tr>\n",
       "    <tr>\n",
       "      <th>wage_eur</th>\n",
       "      <td>1.647676</td>\n",
       "      <td>1.113039</td>\n",
       "      <td>1.039189</td>\n",
       "    </tr>\n",
       "    <tr>\n",
       "      <th>age</th>\n",
       "      <td>4.122181</td>\n",
       "      <td>5.607855</td>\n",
       "      <td>2.705190</td>\n",
       "    </tr>\n",
       "  </tbody>\n",
       "</table>\n",
       "</div>"
      ],
      "text/plain": [
       "                  0         1         2\n",
       "overall    6.210533  4.802146  3.582350\n",
       "potential  6.612225  4.506232  5.197414\n",
       "value_eur  1.408261  1.040073  1.035194\n",
       "wage_eur   1.647676  1.113039  1.039189\n",
       "age        4.122181  5.607855  2.705190"
      ]
     },
     "execution_count": 62,
     "metadata": {},
     "output_type": "execute_result"
    }
   ],
   "source": [
    "kmens = KMeans(n_clusters=3)\n",
    "kmens.fit(data)\n",
    "centriods_2 = kmens.cluster_centers_\n",
    "pd.DataFrame(centriods_2, columns=features).T"
   ]
  },
  {
   "cell_type": "code",
   "execution_count": null,
   "metadata": {},
   "outputs": [],
   "source": []
  }
 ],
 "metadata": {
  "kernelspec": {
   "display_name": "base",
   "language": "python",
   "name": "python3"
  },
  "language_info": {
   "codemirror_mode": {
    "name": "ipython",
    "version": 3
   },
   "file_extension": ".py",
   "mimetype": "text/x-python",
   "name": "python",
   "nbconvert_exporter": "python",
   "pygments_lexer": "ipython3",
   "version": "3.9.12"
  },
  "orig_nbformat": 4,
  "vscode": {
   "interpreter": {
    "hash": "0a7cc9519612de3adf7d0b0b895015cb252dc9c52e2af22739511a2009601fdc"
   }
  }
 },
 "nbformat": 4,
 "nbformat_minor": 2
}
